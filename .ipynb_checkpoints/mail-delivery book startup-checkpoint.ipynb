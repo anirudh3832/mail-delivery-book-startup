{
 "cells": [
  {
   "cell_type": "code",
   "execution_count": 52,
   "metadata": {
    "ExecuteTime": {
     "end_time": "2019-10-09T15:58:42.202416Z",
     "start_time": "2019-10-09T15:58:42.194418Z"
    }
   },
   "outputs": [],
   "source": [
    "import numpy as np\n",
    "import pandas as pd\n",
    "import matplotlib.pyplot as plt\n",
    "import seaborn as sns\n",
    "from sklearn.preprocessing import LabelEncoder\n",
    "from sklearn.model_selection import train_test_split\n",
    "from sklearn.linear_model import LogisticRegression\n",
    "from sklearn.metrics import accuracy_score\n",
    "from sklearn.ensemble import RandomForestClassifier"
   ]
  },
  {
   "cell_type": "markdown",
   "metadata": {},
   "source": [
    "# Importing DataSets"
   ]
  },
  {
   "cell_type": "code",
   "execution_count": 53,
   "metadata": {
    "ExecuteTime": {
     "end_time": "2019-10-09T15:58:42.439341Z",
     "start_time": "2019-10-09T15:58:42.207414Z"
    }
   },
   "outputs": [],
   "source": [
    "last_month_assortment= pd.read_csv('last_month_assortment.csv')\n",
    "customer_features=pd.read_csv('customer_features.csv')\n",
    "next_month_assortment=pd.read_csv('next_month_assortment.csv')\n",
    "next_purchase_order=pd.read_csv('next_purchase_order.csv')\n",
    "original_purchase_order=pd.read_csv('original_purchase_order.csv')\n",
    "product_features=pd.read_csv('product_features.csv')"
   ]
  },
  {
   "cell_type": "markdown",
   "metadata": {},
   "source": [
    "### working on individual CSV files"
   ]
  },
  {
   "cell_type": "code",
   "execution_count": 54,
   "metadata": {
    "ExecuteTime": {
     "end_time": "2019-10-09T15:58:42.474328Z",
     "start_time": "2019-10-09T15:58:42.445341Z"
    }
   },
   "outputs": [
    {
     "data": {
      "text/html": [
       "<div>\n",
       "<style scoped>\n",
       "    .dataframe tbody tr th:only-of-type {\n",
       "        vertical-align: middle;\n",
       "    }\n",
       "\n",
       "    .dataframe tbody tr th {\n",
       "        vertical-align: top;\n",
       "    }\n",
       "\n",
       "    .dataframe thead th {\n",
       "        text-align: right;\n",
       "    }\n",
       "</style>\n",
       "<table border=\"1\" class=\"dataframe\">\n",
       "  <thead>\n",
       "    <tr style=\"text-align: right;\">\n",
       "      <th></th>\n",
       "      <th>customer_id</th>\n",
       "      <th>age_bucket</th>\n",
       "      <th>is_returning_customer</th>\n",
       "      <th>favorite_genres</th>\n",
       "    </tr>\n",
       "  </thead>\n",
       "  <tbody>\n",
       "    <tr>\n",
       "      <th>0</th>\n",
       "      <td>1000078</td>\n",
       "      <td>46-55</td>\n",
       "      <td>True</td>\n",
       "      <td>['Classic', 'History', 'Self-Help', 'Romance',...</td>\n",
       "    </tr>\n",
       "    <tr>\n",
       "      <th>1</th>\n",
       "      <td>1000102</td>\n",
       "      <td>46-55</td>\n",
       "      <td>True</td>\n",
       "      <td>['Beach-Read', 'Pop-Sci', 'Pop-Psychology', 'B...</td>\n",
       "    </tr>\n",
       "    <tr>\n",
       "      <th>2</th>\n",
       "      <td>1000185</td>\n",
       "      <td>46-55</td>\n",
       "      <td>True</td>\n",
       "      <td>['Romance', 'Self-Help', 'Beach-Read', 'Pop-Ps...</td>\n",
       "    </tr>\n",
       "    <tr>\n",
       "      <th>3</th>\n",
       "      <td>1000423</td>\n",
       "      <td>26-35</td>\n",
       "      <td>True</td>\n",
       "      <td>['Classic', 'Drama']</td>\n",
       "    </tr>\n",
       "    <tr>\n",
       "      <th>4</th>\n",
       "      <td>1000696</td>\n",
       "      <td>66+</td>\n",
       "      <td>True</td>\n",
       "      <td>['Drama', 'Thriller', 'Sci-Fi', 'Romance', 'Hi...</td>\n",
       "    </tr>\n",
       "  </tbody>\n",
       "</table>\n",
       "</div>"
      ],
      "text/plain": [
       "   customer_id age_bucket  is_returning_customer  \\\n",
       "0      1000078      46-55                   True   \n",
       "1      1000102      46-55                   True   \n",
       "2      1000185      46-55                   True   \n",
       "3      1000423      26-35                   True   \n",
       "4      1000696        66+                   True   \n",
       "\n",
       "                                     favorite_genres  \n",
       "0  ['Classic', 'History', 'Self-Help', 'Romance',...  \n",
       "1  ['Beach-Read', 'Pop-Sci', 'Pop-Psychology', 'B...  \n",
       "2  ['Romance', 'Self-Help', 'Beach-Read', 'Pop-Ps...  \n",
       "3                               ['Classic', 'Drama']  \n",
       "4  ['Drama', 'Thriller', 'Sci-Fi', 'Romance', 'Hi...  "
      ]
     },
     "execution_count": 54,
     "metadata": {},
     "output_type": "execute_result"
    }
   ],
   "source": [
    "customer_features.head()"
   ]
  },
  {
   "cell_type": "markdown",
   "metadata": {},
   "source": [
    "- According to the problem statement we have to predict if we will be able to run the business\n",
    "- Considering above statement we can remove `favorite_genres` as we are not building recommender system"
   ]
  },
  {
   "cell_type": "code",
   "execution_count": 55,
   "metadata": {
    "ExecuteTime": {
     "end_time": "2019-10-09T15:58:42.596290Z",
     "start_time": "2019-10-09T15:58:42.480328Z"
    }
   },
   "outputs": [],
   "source": [
    "customer_features.drop(columns='favorite_genres',inplace=True)"
   ]
  },
  {
   "cell_type": "code",
   "execution_count": 56,
   "metadata": {
    "ExecuteTime": {
     "end_time": "2019-10-09T15:58:42.765234Z",
     "start_time": "2019-10-09T15:58:42.600288Z"
    }
   },
   "outputs": [],
   "source": [
    "#dealing with age-bucket!!!\n",
    "customer_features['age_bucket'] = customer_features['age_bucket'].replace('66+', '66')\n",
    "customer_features['age_bucket'] = customer_features['age_bucket'].fillna('missing')\n",
    "customer_features['age_bucket'] = customer_features['age_bucket'].astype(str)"
   ]
  },
  {
   "cell_type": "code",
   "execution_count": 57,
   "metadata": {
    "ExecuteTime": {
     "end_time": "2019-10-09T15:58:42.902192Z",
     "start_time": "2019-10-09T15:58:42.768235Z"
    }
   },
   "outputs": [],
   "source": [
    "customer_features['is_returning_customer']=le.fit_transform(customer_features['is_returning_customer'])\n",
    "customer_features['age_bucket']=le.fit_transform(customer_features['age_bucket'])"
   ]
  },
  {
   "cell_type": "code",
   "execution_count": 58,
   "metadata": {
    "ExecuteTime": {
     "end_time": "2019-10-09T15:58:43.051163Z",
     "start_time": "2019-10-09T15:58:42.912190Z"
    }
   },
   "outputs": [
    {
     "data": {
      "text/html": [
       "<div>\n",
       "<style scoped>\n",
       "    .dataframe tbody tr th:only-of-type {\n",
       "        vertical-align: middle;\n",
       "    }\n",
       "\n",
       "    .dataframe tbody tr th {\n",
       "        vertical-align: top;\n",
       "    }\n",
       "\n",
       "    .dataframe thead th {\n",
       "        text-align: right;\n",
       "    }\n",
       "</style>\n",
       "<table border=\"1\" class=\"dataframe\">\n",
       "  <thead>\n",
       "    <tr style=\"text-align: right;\">\n",
       "      <th></th>\n",
       "      <th>customer_id</th>\n",
       "      <th>age_bucket</th>\n",
       "      <th>is_returning_customer</th>\n",
       "    </tr>\n",
       "  </thead>\n",
       "  <tbody>\n",
       "    <tr>\n",
       "      <th>0</th>\n",
       "      <td>1000078</td>\n",
       "      <td>4</td>\n",
       "      <td>1</td>\n",
       "    </tr>\n",
       "    <tr>\n",
       "      <th>1</th>\n",
       "      <td>1000102</td>\n",
       "      <td>4</td>\n",
       "      <td>1</td>\n",
       "    </tr>\n",
       "    <tr>\n",
       "      <th>2</th>\n",
       "      <td>1000185</td>\n",
       "      <td>4</td>\n",
       "      <td>1</td>\n",
       "    </tr>\n",
       "    <tr>\n",
       "      <th>3</th>\n",
       "      <td>1000423</td>\n",
       "      <td>2</td>\n",
       "      <td>1</td>\n",
       "    </tr>\n",
       "    <tr>\n",
       "      <th>4</th>\n",
       "      <td>1000696</td>\n",
       "      <td>6</td>\n",
       "      <td>1</td>\n",
       "    </tr>\n",
       "  </tbody>\n",
       "</table>\n",
       "</div>"
      ],
      "text/plain": [
       "   customer_id  age_bucket  is_returning_customer\n",
       "0      1000078           4                      1\n",
       "1      1000102           4                      1\n",
       "2      1000185           4                      1\n",
       "3      1000423           2                      1\n",
       "4      1000696           6                      1"
      ]
     },
     "execution_count": 58,
     "metadata": {},
     "output_type": "execute_result"
    }
   ],
   "source": [
    "customer_features.head()"
   ]
  },
  {
   "cell_type": "code",
   "execution_count": 59,
   "metadata": {
    "ExecuteTime": {
     "end_time": "2019-10-09T15:58:43.208096Z",
     "start_time": "2019-10-09T15:58:43.054143Z"
    }
   },
   "outputs": [
    {
     "data": {
      "text/html": [
       "<div>\n",
       "<style scoped>\n",
       "    .dataframe tbody tr th:only-of-type {\n",
       "        vertical-align: middle;\n",
       "    }\n",
       "\n",
       "    .dataframe tbody tr th {\n",
       "        vertical-align: top;\n",
       "    }\n",
       "\n",
       "    .dataframe thead th {\n",
       "        text-align: right;\n",
       "    }\n",
       "</style>\n",
       "<table border=\"1\" class=\"dataframe\">\n",
       "  <thead>\n",
       "    <tr style=\"text-align: right;\">\n",
       "      <th></th>\n",
       "      <th>product_id</th>\n",
       "      <th>quantity_purchased</th>\n",
       "      <th>cost_to_buy</th>\n",
       "      <th>retail_value</th>\n",
       "    </tr>\n",
       "  </thead>\n",
       "  <tbody>\n",
       "    <tr>\n",
       "      <th>0</th>\n",
       "      <td>1769808</td>\n",
       "      <td>77</td>\n",
       "      <td>2.20</td>\n",
       "      <td>16.67</td>\n",
       "    </tr>\n",
       "    <tr>\n",
       "      <th>1</th>\n",
       "      <td>1896283</td>\n",
       "      <td>67</td>\n",
       "      <td>1.46</td>\n",
       "      <td>9.59</td>\n",
       "    </tr>\n",
       "    <tr>\n",
       "      <th>2</th>\n",
       "      <td>1889979</td>\n",
       "      <td>80</td>\n",
       "      <td>2.06</td>\n",
       "      <td>13.36</td>\n",
       "    </tr>\n",
       "    <tr>\n",
       "      <th>3</th>\n",
       "      <td>1341288</td>\n",
       "      <td>85</td>\n",
       "      <td>1.25</td>\n",
       "      <td>6.57</td>\n",
       "    </tr>\n",
       "    <tr>\n",
       "      <th>4</th>\n",
       "      <td>1666328</td>\n",
       "      <td>60</td>\n",
       "      <td>1.51</td>\n",
       "      <td>10.49</td>\n",
       "    </tr>\n",
       "  </tbody>\n",
       "</table>\n",
       "</div>"
      ],
      "text/plain": [
       "   product_id  quantity_purchased  cost_to_buy  retail_value\n",
       "0     1769808                  77         2.20         16.67\n",
       "1     1896283                  67         1.46          9.59\n",
       "2     1889979                  80         2.06         13.36\n",
       "3     1341288                  85         1.25          6.57\n",
       "4     1666328                  60         1.51         10.49"
      ]
     },
     "execution_count": 59,
     "metadata": {},
     "output_type": "execute_result"
    }
   ],
   "source": [
    "original_purchase_order.head()"
   ]
  },
  {
   "cell_type": "code",
   "execution_count": 60,
   "metadata": {
    "ExecuteTime": {
     "end_time": "2019-10-09T15:58:43.319077Z",
     "start_time": "2019-10-09T15:58:43.214092Z"
    }
   },
   "outputs": [
    {
     "data": {
      "text/html": [
       "<div>\n",
       "<style scoped>\n",
       "    .dataframe tbody tr th:only-of-type {\n",
       "        vertical-align: middle;\n",
       "    }\n",
       "\n",
       "    .dataframe tbody tr th {\n",
       "        vertical-align: top;\n",
       "    }\n",
       "\n",
       "    .dataframe thead th {\n",
       "        text-align: right;\n",
       "    }\n",
       "</style>\n",
       "<table border=\"1\" class=\"dataframe\">\n",
       "  <thead>\n",
       "    <tr style=\"text-align: right;\">\n",
       "      <th></th>\n",
       "      <th>product_id</th>\n",
       "      <th>quantity_purchased</th>\n",
       "      <th>cost_to_buy</th>\n",
       "      <th>retail_value</th>\n",
       "    </tr>\n",
       "  </thead>\n",
       "  <tbody>\n",
       "    <tr>\n",
       "      <th>0</th>\n",
       "      <td>1479507</td>\n",
       "      <td>39</td>\n",
       "      <td>1.82</td>\n",
       "      <td>12.68</td>\n",
       "    </tr>\n",
       "    <tr>\n",
       "      <th>1</th>\n",
       "      <td>1681385</td>\n",
       "      <td>55</td>\n",
       "      <td>1.73</td>\n",
       "      <td>12.88</td>\n",
       "    </tr>\n",
       "    <tr>\n",
       "      <th>2</th>\n",
       "      <td>1771749</td>\n",
       "      <td>37</td>\n",
       "      <td>1.26</td>\n",
       "      <td>10.38</td>\n",
       "    </tr>\n",
       "    <tr>\n",
       "      <th>3</th>\n",
       "      <td>1605149</td>\n",
       "      <td>49</td>\n",
       "      <td>1.47</td>\n",
       "      <td>11.27</td>\n",
       "    </tr>\n",
       "    <tr>\n",
       "      <th>4</th>\n",
       "      <td>1861356</td>\n",
       "      <td>34</td>\n",
       "      <td>1.98</td>\n",
       "      <td>10.41</td>\n",
       "    </tr>\n",
       "  </tbody>\n",
       "</table>\n",
       "</div>"
      ],
      "text/plain": [
       "   product_id  quantity_purchased  cost_to_buy  retail_value\n",
       "0     1479507                  39         1.82         12.68\n",
       "1     1681385                  55         1.73         12.88\n",
       "2     1771749                  37         1.26         10.38\n",
       "3     1605149                  49         1.47         11.27\n",
       "4     1861356                  34         1.98         10.41"
      ]
     },
     "execution_count": 60,
     "metadata": {},
     "output_type": "execute_result"
    }
   ],
   "source": [
    "next_purchase_order.head()"
   ]
  },
  {
   "cell_type": "markdown",
   "metadata": {},
   "source": [
    "total cost for the company will be equal to sum of loan amount for `previuos_order`,`next_order`, shipping for `last_month assorment`,`next_moth assorment`"
   ]
  },
  {
   "cell_type": "code",
   "execution_count": 61,
   "metadata": {
    "ExecuteTime": {
     "end_time": "2019-10-09T15:58:43.433040Z",
     "start_time": "2019-10-09T15:58:43.321076Z"
    }
   },
   "outputs": [],
   "source": [
    "def loan_amount(df_quantity,df_cost):\n",
    "    total_cost=df_quantity*df_cost\n",
    "    return round(sum(total_cost),2)    "
   ]
  },
  {
   "cell_type": "code",
   "execution_count": 62,
   "metadata": {
    "ExecuteTime": {
     "end_time": "2019-10-09T15:58:43.559001Z",
     "start_time": "2019-10-09T15:58:43.435022Z"
    }
   },
   "outputs": [
    {
     "name": "stdout",
     "output_type": "stream",
     "text": [
      "last month loan :  135546.42\n",
      "next month loan :  24155.51\n"
     ]
    }
   ],
   "source": [
    "last_month_loan=loan_amount(original_purchase_order.quantity_purchased,original_purchase_order.cost_to_buy)\n",
    "print('last month loan : ',last_month_loan)\n",
    "next_month_loan=loan_amount(next_purchase_order.quantity_purchased,next_purchase_order.cost_to_buy)\n",
    "print('next month loan : ',next_month_loan)"
   ]
  },
  {
   "cell_type": "code",
   "execution_count": 63,
   "metadata": {
    "ExecuteTime": {
     "end_time": "2019-10-09T15:58:43.684791Z",
     "start_time": "2019-10-09T15:58:43.560979Z"
    }
   },
   "outputs": [],
   "source": [
    "le=LabelEncoder()"
   ]
  },
  {
   "cell_type": "code",
   "execution_count": 64,
   "metadata": {
    "ExecuteTime": {
     "end_time": "2019-10-09T15:58:43.843783Z",
     "start_time": "2019-10-09T15:58:43.684791Z"
    }
   },
   "outputs": [
    {
     "data": {
      "text/html": [
       "<div>\n",
       "<style scoped>\n",
       "    .dataframe tbody tr th:only-of-type {\n",
       "        vertical-align: middle;\n",
       "    }\n",
       "\n",
       "    .dataframe tbody tr th {\n",
       "        vertical-align: top;\n",
       "    }\n",
       "\n",
       "    .dataframe thead th {\n",
       "        text-align: right;\n",
       "    }\n",
       "</style>\n",
       "<table border=\"1\" class=\"dataframe\">\n",
       "  <thead>\n",
       "    <tr style=\"text-align: right;\">\n",
       "      <th></th>\n",
       "      <th>customer_id</th>\n",
       "      <th>product_id</th>\n",
       "      <th>purchased</th>\n",
       "    </tr>\n",
       "  </thead>\n",
       "  <tbody>\n",
       "    <tr>\n",
       "      <th>0</th>\n",
       "      <td>1000078</td>\n",
       "      <td>1730073</td>\n",
       "      <td>False</td>\n",
       "    </tr>\n",
       "    <tr>\n",
       "      <th>1</th>\n",
       "      <td>1000078</td>\n",
       "      <td>1470520</td>\n",
       "      <td>False</td>\n",
       "    </tr>\n",
       "    <tr>\n",
       "      <th>2</th>\n",
       "      <td>1000078</td>\n",
       "      <td>1861356</td>\n",
       "      <td>False</td>\n",
       "    </tr>\n",
       "    <tr>\n",
       "      <th>3</th>\n",
       "      <td>1000078</td>\n",
       "      <td>1240824</td>\n",
       "      <td>True</td>\n",
       "    </tr>\n",
       "    <tr>\n",
       "      <th>4</th>\n",
       "      <td>1000078</td>\n",
       "      <td>1155460</td>\n",
       "      <td>False</td>\n",
       "    </tr>\n",
       "  </tbody>\n",
       "</table>\n",
       "</div>"
      ],
      "text/plain": [
       "   customer_id  product_id  purchased\n",
       "0      1000078     1730073      False\n",
       "1      1000078     1470520      False\n",
       "2      1000078     1861356      False\n",
       "3      1000078     1240824       True\n",
       "4      1000078     1155460      False"
      ]
     },
     "execution_count": 64,
     "metadata": {},
     "output_type": "execute_result"
    }
   ],
   "source": [
    "last_month_assortment.head()"
   ]
  },
  {
   "cell_type": "code",
   "execution_count": 65,
   "metadata": {
    "ExecuteTime": {
     "end_time": "2019-10-09T15:58:43.971589Z",
     "start_time": "2019-10-09T15:58:43.853775Z"
    }
   },
   "outputs": [],
   "source": [
    "last_month_assortment['purchased']=le.fit_transform(last_month_assortment['purchased'])"
   ]
  },
  {
   "cell_type": "markdown",
   "metadata": {},
   "source": [
    "- Given one time shipment cost is 0.6\n",
    "- Hence not purchased book will have 1.2 shipping cost"
   ]
  },
  {
   "cell_type": "code",
   "execution_count": 66,
   "metadata": {
    "ExecuteTime": {
     "end_time": "2019-10-09T15:58:44.119741Z",
     "start_time": "2019-10-09T15:58:43.971589Z"
    }
   },
   "outputs": [
    {
     "name": "stdout",
     "output_type": "stream",
     "text": [
      "last month shipping cost :  35592.6\n"
     ]
    }
   ],
   "source": [
    "last_month_assortment['Shipping_cost']=last_month_assortment['purchased'].apply(lambda x : 0.6 if x==True else 1.2)\n",
    "last_month_shipping_cost=round(sum(last_month_assortment['Shipping_cost']),2)\n",
    "print('last month shipping cost : ',last_month_shipping_cost)"
   ]
  },
  {
   "cell_type": "markdown",
   "metadata": {},
   "source": [
    "- Total revenue of the company can be calculated by sales of the books"
   ]
  },
  {
   "cell_type": "code",
   "execution_count": 67,
   "metadata": {
    "ExecuteTime": {
     "end_time": "2019-10-09T15:58:44.252696Z",
     "start_time": "2019-10-09T15:58:44.123739Z"
    }
   },
   "outputs": [
    {
     "data": {
      "text/html": [
       "<div>\n",
       "<style scoped>\n",
       "    .dataframe tbody tr th:only-of-type {\n",
       "        vertical-align: middle;\n",
       "    }\n",
       "\n",
       "    .dataframe tbody tr th {\n",
       "        vertical-align: top;\n",
       "    }\n",
       "\n",
       "    .dataframe thead th {\n",
       "        text-align: right;\n",
       "    }\n",
       "</style>\n",
       "<table border=\"1\" class=\"dataframe\">\n",
       "  <thead>\n",
       "    <tr style=\"text-align: right;\">\n",
       "      <th></th>\n",
       "      <th>product_id</th>\n",
       "      <th>quantity_purchased</th>\n",
       "      <th>cost_to_buy</th>\n",
       "      <th>retail_value</th>\n",
       "      <th>customer_id</th>\n",
       "      <th>purchased</th>\n",
       "      <th>Shipping_cost</th>\n",
       "    </tr>\n",
       "  </thead>\n",
       "  <tbody>\n",
       "    <tr>\n",
       "      <th>0</th>\n",
       "      <td>1769808</td>\n",
       "      <td>77</td>\n",
       "      <td>2.2</td>\n",
       "      <td>16.67</td>\n",
       "      <td>1024268</td>\n",
       "      <td>0</td>\n",
       "      <td>1.2</td>\n",
       "    </tr>\n",
       "    <tr>\n",
       "      <th>1</th>\n",
       "      <td>1769808</td>\n",
       "      <td>77</td>\n",
       "      <td>2.2</td>\n",
       "      <td>16.67</td>\n",
       "      <td>1029037</td>\n",
       "      <td>0</td>\n",
       "      <td>1.2</td>\n",
       "    </tr>\n",
       "    <tr>\n",
       "      <th>2</th>\n",
       "      <td>1769808</td>\n",
       "      <td>77</td>\n",
       "      <td>2.2</td>\n",
       "      <td>16.67</td>\n",
       "      <td>1040471</td>\n",
       "      <td>0</td>\n",
       "      <td>1.2</td>\n",
       "    </tr>\n",
       "    <tr>\n",
       "      <th>3</th>\n",
       "      <td>1769808</td>\n",
       "      <td>77</td>\n",
       "      <td>2.2</td>\n",
       "      <td>16.67</td>\n",
       "      <td>1049982</td>\n",
       "      <td>0</td>\n",
       "      <td>1.2</td>\n",
       "    </tr>\n",
       "    <tr>\n",
       "      <th>4</th>\n",
       "      <td>1769808</td>\n",
       "      <td>77</td>\n",
       "      <td>2.2</td>\n",
       "      <td>16.67</td>\n",
       "      <td>1064903</td>\n",
       "      <td>1</td>\n",
       "      <td>0.6</td>\n",
       "    </tr>\n",
       "  </tbody>\n",
       "</table>\n",
       "</div>"
      ],
      "text/plain": [
       "   product_id  quantity_purchased  cost_to_buy  retail_value  customer_id  \\\n",
       "0     1769808                  77          2.2         16.67      1024268   \n",
       "1     1769808                  77          2.2         16.67      1029037   \n",
       "2     1769808                  77          2.2         16.67      1040471   \n",
       "3     1769808                  77          2.2         16.67      1049982   \n",
       "4     1769808                  77          2.2         16.67      1064903   \n",
       "\n",
       "   purchased  Shipping_cost  \n",
       "0          0            1.2  \n",
       "1          0            1.2  \n",
       "2          0            1.2  \n",
       "3          0            1.2  \n",
       "4          1            0.6  "
      ]
     },
     "execution_count": 67,
     "metadata": {},
     "output_type": "execute_result"
    }
   ],
   "source": [
    "last_month_sales=pd.merge(original_purchase_order,last_month_assortment,on='product_id')\n",
    "last_month_sales.head()"
   ]
  },
  {
   "cell_type": "code",
   "execution_count": 68,
   "metadata": {
    "ExecuteTime": {
     "end_time": "2019-10-09T15:58:44.373658Z",
     "start_time": "2019-10-09T15:58:44.256697Z"
    }
   },
   "outputs": [
    {
     "name": "stdout",
     "output_type": "stream",
     "text": [
      "total_lasts_month_sales :  151617.36\n"
     ]
    }
   ],
   "source": [
    "total_lasts_month_sales=round(sum(last_month_sales[last_month_sales['purchased']==True]['retail_value']),2)\n",
    "print('total_lasts_month_sales : ',total_lasts_month_sales)"
   ]
  },
  {
   "cell_type": "code",
   "execution_count": 69,
   "metadata": {
    "ExecuteTime": {
     "end_time": "2019-10-09T15:58:44.538606Z",
     "start_time": "2019-10-09T15:58:44.377658Z"
    }
   },
   "outputs": [
    {
     "data": {
      "text/html": [
       "<div>\n",
       "<style scoped>\n",
       "    .dataframe tbody tr th:only-of-type {\n",
       "        vertical-align: middle;\n",
       "    }\n",
       "\n",
       "    .dataframe tbody tr th {\n",
       "        vertical-align: top;\n",
       "    }\n",
       "\n",
       "    .dataframe thead th {\n",
       "        text-align: right;\n",
       "    }\n",
       "</style>\n",
       "<table border=\"1\" class=\"dataframe\">\n",
       "  <thead>\n",
       "    <tr style=\"text-align: right;\">\n",
       "      <th></th>\n",
       "      <th>product_id</th>\n",
       "      <th>length</th>\n",
       "      <th>difficulty</th>\n",
       "      <th>fiction</th>\n",
       "      <th>genre</th>\n",
       "    </tr>\n",
       "  </thead>\n",
       "  <tbody>\n",
       "    <tr>\n",
       "      <th>0</th>\n",
       "      <td>1769808</td>\n",
       "      <td>148</td>\n",
       "      <td>3</td>\n",
       "      <td>False</td>\n",
       "      <td>Self-Help</td>\n",
       "    </tr>\n",
       "    <tr>\n",
       "      <th>1</th>\n",
       "      <td>1896283</td>\n",
       "      <td>161</td>\n",
       "      <td>5</td>\n",
       "      <td>False</td>\n",
       "      <td>Biography</td>\n",
       "    </tr>\n",
       "    <tr>\n",
       "      <th>2</th>\n",
       "      <td>1889979</td>\n",
       "      <td>296</td>\n",
       "      <td>4</td>\n",
       "      <td>False</td>\n",
       "      <td>History</td>\n",
       "    </tr>\n",
       "    <tr>\n",
       "      <th>3</th>\n",
       "      <td>1341288</td>\n",
       "      <td>551</td>\n",
       "      <td>4</td>\n",
       "      <td>True</td>\n",
       "      <td>Thriller</td>\n",
       "    </tr>\n",
       "    <tr>\n",
       "      <th>4</th>\n",
       "      <td>1666328</td>\n",
       "      <td>623</td>\n",
       "      <td>-1</td>\n",
       "      <td>True</td>\n",
       "      <td>Sci-Fi</td>\n",
       "    </tr>\n",
       "  </tbody>\n",
       "</table>\n",
       "</div>"
      ],
      "text/plain": [
       "   product_id  length  difficulty  fiction      genre\n",
       "0     1769808     148           3    False  Self-Help\n",
       "1     1896283     161           5    False  Biography\n",
       "2     1889979     296           4    False    History\n",
       "3     1341288     551           4     True   Thriller\n",
       "4     1666328     623          -1     True     Sci-Fi"
      ]
     },
     "execution_count": 69,
     "metadata": {},
     "output_type": "execute_result"
    }
   ],
   "source": [
    "product_features.head()"
   ]
  },
  {
   "cell_type": "code",
   "execution_count": 70,
   "metadata": {
    "ExecuteTime": {
     "end_time": "2019-10-09T15:58:44.656696Z",
     "start_time": "2019-10-09T15:58:44.541605Z"
    }
   },
   "outputs": [],
   "source": [
    "product_features['difficulty']=le.fit_transform(product_features['difficulty'])\n",
    "product_features['fiction']=le.fit_transform(product_features['fiction'])\n",
    "product_features['genre']=le.fit_transform(product_features['genre'])"
   ]
  },
  {
   "cell_type": "code",
   "execution_count": 71,
   "metadata": {
    "ExecuteTime": {
     "end_time": "2019-10-09T15:58:44.856774Z",
     "start_time": "2019-10-09T15:58:44.656696Z"
    }
   },
   "outputs": [
    {
     "data": {
      "text/html": [
       "<div>\n",
       "<style scoped>\n",
       "    .dataframe tbody tr th:only-of-type {\n",
       "        vertical-align: middle;\n",
       "    }\n",
       "\n",
       "    .dataframe tbody tr th {\n",
       "        vertical-align: top;\n",
       "    }\n",
       "\n",
       "    .dataframe thead th {\n",
       "        text-align: right;\n",
       "    }\n",
       "</style>\n",
       "<table border=\"1\" class=\"dataframe\">\n",
       "  <thead>\n",
       "    <tr style=\"text-align: right;\">\n",
       "      <th></th>\n",
       "      <th>product_id</th>\n",
       "      <th>quantity_purchased</th>\n",
       "      <th>cost_to_buy</th>\n",
       "      <th>retail_value</th>\n",
       "      <th>customer_id</th>\n",
       "      <th>purchased</th>\n",
       "      <th>Shipping_cost</th>\n",
       "      <th>age_bucket</th>\n",
       "      <th>is_returning_customer</th>\n",
       "      <th>length</th>\n",
       "      <th>difficulty</th>\n",
       "      <th>fiction</th>\n",
       "      <th>genre</th>\n",
       "    </tr>\n",
       "  </thead>\n",
       "  <tbody>\n",
       "    <tr>\n",
       "      <th>0</th>\n",
       "      <td>1769808</td>\n",
       "      <td>77</td>\n",
       "      <td>2.2</td>\n",
       "      <td>16.67</td>\n",
       "      <td>1024268</td>\n",
       "      <td>0</td>\n",
       "      <td>1.2</td>\n",
       "      <td>7</td>\n",
       "      <td>1</td>\n",
       "      <td>148</td>\n",
       "      <td>3</td>\n",
       "      <td>0</td>\n",
       "      <td>9</td>\n",
       "    </tr>\n",
       "    <tr>\n",
       "      <th>1</th>\n",
       "      <td>1769808</td>\n",
       "      <td>77</td>\n",
       "      <td>2.2</td>\n",
       "      <td>16.67</td>\n",
       "      <td>1029037</td>\n",
       "      <td>0</td>\n",
       "      <td>1.2</td>\n",
       "      <td>7</td>\n",
       "      <td>1</td>\n",
       "      <td>148</td>\n",
       "      <td>3</td>\n",
       "      <td>0</td>\n",
       "      <td>9</td>\n",
       "    </tr>\n",
       "    <tr>\n",
       "      <th>2</th>\n",
       "      <td>1769808</td>\n",
       "      <td>77</td>\n",
       "      <td>2.2</td>\n",
       "      <td>16.67</td>\n",
       "      <td>1040471</td>\n",
       "      <td>0</td>\n",
       "      <td>1.2</td>\n",
       "      <td>4</td>\n",
       "      <td>1</td>\n",
       "      <td>148</td>\n",
       "      <td>3</td>\n",
       "      <td>0</td>\n",
       "      <td>9</td>\n",
       "    </tr>\n",
       "    <tr>\n",
       "      <th>3</th>\n",
       "      <td>1769808</td>\n",
       "      <td>77</td>\n",
       "      <td>2.2</td>\n",
       "      <td>16.67</td>\n",
       "      <td>1049982</td>\n",
       "      <td>0</td>\n",
       "      <td>1.2</td>\n",
       "      <td>3</td>\n",
       "      <td>0</td>\n",
       "      <td>148</td>\n",
       "      <td>3</td>\n",
       "      <td>0</td>\n",
       "      <td>9</td>\n",
       "    </tr>\n",
       "    <tr>\n",
       "      <th>4</th>\n",
       "      <td>1769808</td>\n",
       "      <td>77</td>\n",
       "      <td>2.2</td>\n",
       "      <td>16.67</td>\n",
       "      <td>1064903</td>\n",
       "      <td>1</td>\n",
       "      <td>0.6</td>\n",
       "      <td>5</td>\n",
       "      <td>1</td>\n",
       "      <td>148</td>\n",
       "      <td>3</td>\n",
       "      <td>0</td>\n",
       "      <td>9</td>\n",
       "    </tr>\n",
       "  </tbody>\n",
       "</table>\n",
       "</div>"
      ],
      "text/plain": [
       "   product_id  quantity_purchased  cost_to_buy  retail_value  customer_id  \\\n",
       "0     1769808                  77          2.2         16.67      1024268   \n",
       "1     1769808                  77          2.2         16.67      1029037   \n",
       "2     1769808                  77          2.2         16.67      1040471   \n",
       "3     1769808                  77          2.2         16.67      1049982   \n",
       "4     1769808                  77          2.2         16.67      1064903   \n",
       "\n",
       "   purchased  Shipping_cost  age_bucket  is_returning_customer  length  \\\n",
       "0          0            1.2           7                      1     148   \n",
       "1          0            1.2           7                      1     148   \n",
       "2          0            1.2           4                      1     148   \n",
       "3          0            1.2           3                      0     148   \n",
       "4          1            0.6           5                      1     148   \n",
       "\n",
       "   difficulty  fiction  genre  \n",
       "0           3        0      9  \n",
       "1           3        0      9  \n",
       "2           3        0      9  \n",
       "3           3        0      9  \n",
       "4           3        0      9  "
      ]
     },
     "execution_count": 71,
     "metadata": {},
     "output_type": "execute_result"
    }
   ],
   "source": [
    "last_data=pd.merge(last_month_sales,customer_features,on='customer_id')\n",
    "last_data=pd.merge(last_data,product_features,on='product_id')\n",
    "last_data.head()"
   ]
  },
  {
   "cell_type": "code",
   "execution_count": 77,
   "metadata": {
    "ExecuteTime": {
     "end_time": "2019-10-09T16:11:49.792308Z",
     "start_time": "2019-10-09T16:11:49.784309Z"
    }
   },
   "outputs": [],
   "source": [
    "X=last_data.drop(columns=['quantity_purchased','purchased','product_id','customer_id','Shipping_cost'])\n",
    "y=last_data['purchased']"
   ]
  },
  {
   "cell_type": "code",
   "execution_count": 78,
   "metadata": {
    "ExecuteTime": {
     "end_time": "2019-10-09T16:11:51.838850Z",
     "start_time": "2019-10-09T16:11:50.251159Z"
    }
   },
   "outputs": [
    {
     "name": "stderr",
     "output_type": "stream",
     "text": [
      "[Parallel(n_jobs=1)]: Using backend SequentialBackend with 1 concurrent workers.\n",
      "[Parallel(n_jobs=1)]: Done  50 out of  50 | elapsed:    1.4s finished\n"
     ]
    },
    {
     "data": {
      "text/plain": [
       "RandomForestClassifier(bootstrap=True, class_weight=None, criterion='gini',\n",
       "            max_depth=None, max_features='auto', max_leaf_nodes=None,\n",
       "            min_impurity_decrease=0.0, min_impurity_split=None,\n",
       "            min_samples_leaf=1, min_samples_split=2,\n",
       "            min_weight_fraction_leaf=0.0, n_estimators=50, n_jobs=None,\n",
       "            oob_score=False, random_state=None, verbose=True,\n",
       "            warm_start=False)"
      ]
     },
     "execution_count": 78,
     "metadata": {},
     "output_type": "execute_result"
    }
   ],
   "source": [
    "RF=RandomForestClassifier(n_estimators=50,verbose=True)\n",
    "RF.fit(X,y)"
   ]
  },
  {
   "cell_type": "code",
   "execution_count": 79,
   "metadata": {
    "ExecuteTime": {
     "end_time": "2019-10-09T16:11:55.687576Z",
     "start_time": "2019-10-09T16:11:55.607602Z"
    }
   },
   "outputs": [
    {
     "data": {
      "text/html": [
       "<div>\n",
       "<style scoped>\n",
       "    .dataframe tbody tr th:only-of-type {\n",
       "        vertical-align: middle;\n",
       "    }\n",
       "\n",
       "    .dataframe tbody tr th {\n",
       "        vertical-align: top;\n",
       "    }\n",
       "\n",
       "    .dataframe thead th {\n",
       "        text-align: right;\n",
       "    }\n",
       "</style>\n",
       "<table border=\"1\" class=\"dataframe\">\n",
       "  <thead>\n",
       "    <tr style=\"text-align: right;\">\n",
       "      <th></th>\n",
       "      <th>product_id</th>\n",
       "      <th>quantity_purchased</th>\n",
       "      <th>cost_to_buy</th>\n",
       "      <th>retail_value</th>\n",
       "      <th>customer_id</th>\n",
       "      <th>age_bucket</th>\n",
       "      <th>is_returning_customer</th>\n",
       "      <th>length</th>\n",
       "      <th>difficulty</th>\n",
       "      <th>fiction</th>\n",
       "      <th>genre</th>\n",
       "    </tr>\n",
       "  </thead>\n",
       "  <tbody>\n",
       "    <tr>\n",
       "      <th>0</th>\n",
       "      <td>1769808</td>\n",
       "      <td>77</td>\n",
       "      <td>2.2</td>\n",
       "      <td>16.67</td>\n",
       "      <td>1611773</td>\n",
       "      <td>3</td>\n",
       "      <td>1</td>\n",
       "      <td>148</td>\n",
       "      <td>3</td>\n",
       "      <td>0</td>\n",
       "      <td>9</td>\n",
       "    </tr>\n",
       "    <tr>\n",
       "      <th>1</th>\n",
       "      <td>1769808</td>\n",
       "      <td>77</td>\n",
       "      <td>2.2</td>\n",
       "      <td>16.67</td>\n",
       "      <td>1623382</td>\n",
       "      <td>4</td>\n",
       "      <td>0</td>\n",
       "      <td>148</td>\n",
       "      <td>3</td>\n",
       "      <td>0</td>\n",
       "      <td>9</td>\n",
       "    </tr>\n",
       "    <tr>\n",
       "      <th>2</th>\n",
       "      <td>1769808</td>\n",
       "      <td>77</td>\n",
       "      <td>2.2</td>\n",
       "      <td>16.67</td>\n",
       "      <td>1665963</td>\n",
       "      <td>5</td>\n",
       "      <td>1</td>\n",
       "      <td>148</td>\n",
       "      <td>3</td>\n",
       "      <td>0</td>\n",
       "      <td>9</td>\n",
       "    </tr>\n",
       "    <tr>\n",
       "      <th>3</th>\n",
       "      <td>1769808</td>\n",
       "      <td>77</td>\n",
       "      <td>2.2</td>\n",
       "      <td>16.67</td>\n",
       "      <td>1693623</td>\n",
       "      <td>3</td>\n",
       "      <td>0</td>\n",
       "      <td>148</td>\n",
       "      <td>3</td>\n",
       "      <td>0</td>\n",
       "      <td>9</td>\n",
       "    </tr>\n",
       "    <tr>\n",
       "      <th>4</th>\n",
       "      <td>1769808</td>\n",
       "      <td>77</td>\n",
       "      <td>2.2</td>\n",
       "      <td>16.67</td>\n",
       "      <td>1714004</td>\n",
       "      <td>3</td>\n",
       "      <td>1</td>\n",
       "      <td>148</td>\n",
       "      <td>3</td>\n",
       "      <td>0</td>\n",
       "      <td>9</td>\n",
       "    </tr>\n",
       "  </tbody>\n",
       "</table>\n",
       "</div>"
      ],
      "text/plain": [
       "   product_id  quantity_purchased  cost_to_buy  retail_value  customer_id  \\\n",
       "0     1769808                  77          2.2         16.67      1611773   \n",
       "1     1769808                  77          2.2         16.67      1623382   \n",
       "2     1769808                  77          2.2         16.67      1665963   \n",
       "3     1769808                  77          2.2         16.67      1693623   \n",
       "4     1769808                  77          2.2         16.67      1714004   \n",
       "\n",
       "   age_bucket  is_returning_customer  length  difficulty  fiction  genre  \n",
       "0           3                      1     148           3        0      9  \n",
       "1           4                      0     148           3        0      9  \n",
       "2           5                      1     148           3        0      9  \n",
       "3           3                      0     148           3        0      9  \n",
       "4           3                      1     148           3        0      9  "
      ]
     },
     "execution_count": 79,
     "metadata": {},
     "output_type": "execute_result"
    }
   ],
   "source": [
    "next_data=pd.merge(original_purchase_order,next_month_assortment,on='product_id')\n",
    "next_data=pd.merge(next_data,customer_features,on='customer_id')\n",
    "next_data=pd.merge(next_data,product_features,on='product_id')\n",
    "next_data.head()"
   ]
  },
  {
   "cell_type": "code",
   "execution_count": 80,
   "metadata": {
    "ExecuteTime": {
     "end_time": "2019-10-09T16:11:57.921122Z",
     "start_time": "2019-10-09T16:11:57.904130Z"
    }
   },
   "outputs": [],
   "source": [
    "df=next_data.drop(columns=['quantity_purchased','product_id','customer_id'])"
   ]
  },
  {
   "cell_type": "code",
   "execution_count": 81,
   "metadata": {
    "ExecuteTime": {
     "end_time": "2019-10-09T16:11:58.826371Z",
     "start_time": "2019-10-09T16:11:58.306000Z"
    }
   },
   "outputs": [
    {
     "name": "stderr",
     "output_type": "stream",
     "text": [
      "[Parallel(n_jobs=1)]: Using backend SequentialBackend with 1 concurrent workers.\n",
      "[Parallel(n_jobs=1)]: Done  50 out of  50 | elapsed:    0.4s finished\n"
     ]
    }
   ],
   "source": [
    "pred=RF.predict(df)"
   ]
  },
  {
   "cell_type": "code",
   "execution_count": 83,
   "metadata": {
    "ExecuteTime": {
     "end_time": "2019-10-09T16:12:51.992861Z",
     "start_time": "2019-10-09T16:12:51.950868Z"
    }
   },
   "outputs": [
    {
     "name": "stdout",
     "output_type": "stream",
     "text": [
      "no of books predicted to be purchased:  16967\n"
     ]
    },
    {
     "data": {
      "text/plain": [
       "0.47130555555555553"
      ]
     },
     "execution_count": 83,
     "metadata": {},
     "output_type": "execute_result"
    }
   ],
   "source": [
    "print('no of books predicted to be purchased: ',sum(pred))\n",
    "sum(pred)/X.shape[0]"
   ]
  },
  {
   "cell_type": "code",
   "execution_count": 86,
   "metadata": {
    "ExecuteTime": {
     "end_time": "2019-10-09T16:14:40.296793Z",
     "start_time": "2019-10-09T16:14:40.243825Z"
    }
   },
   "outputs": [
    {
     "name": "stdout",
     "output_type": "stream",
     "text": [
      "Shipping cost predictions for next month's assortment:  25819.8\n"
     ]
    }
   ],
   "source": [
    "next_month_shipping = round((sum(pred)*0.6 + (X.shape[0]-sum(pred)*1.2)),2)\n",
    "print('Shipping cost predictions for next month\\'s assortment: ', next_month_shipping)"
   ]
  },
  {
   "cell_type": "code",
   "execution_count": 87,
   "metadata": {
    "ExecuteTime": {
     "end_time": "2019-10-09T16:14:51.907627Z",
     "start_time": "2019-10-09T16:14:51.884633Z"
    }
   },
   "outputs": [
    {
     "name": "stdout",
     "output_type": "stream",
     "text": [
      "Sale prediction for next month:  203742.18\n"
     ]
    }
   ],
   "source": [
    "#calculate sales for next month:\n",
    "next_data['pred_purchase'] = pred\n",
    "#data_next.head()\n",
    "next_sales = round(sum(next_data['retail_value'].where(next_data['pred_purchase']==1, 0)),2)\n",
    "print(\"Sale prediction for next month: \", next_sales)"
   ]
  },
  {
   "cell_type": "code",
   "execution_count": 88,
   "metadata": {
    "ExecuteTime": {
     "end_time": "2019-10-09T16:15:05.227926Z",
     "start_time": "2019-10-09T16:15:05.219944Z"
    }
   },
   "outputs": [
    {
     "name": "stdout",
     "output_type": "stream",
     "text": [
      "Did we make it? How much:  134245.21\n"
     ]
    }
   ],
   "source": [
    "#coming to the actual question now! if we'll be able to pay back loan and afford next book purchase?\n",
    "total_cost_to_us = last_month_loan + next_month_loan + last_month_shipping_cost + next_month_shipping\n",
    "total_sales = total_lasts_month_sales + next_sales\n",
    "print(\"Did we make it? How much: \", round((total_sales - total_cost_to_us),2))"
   ]
  },
  {
   "cell_type": "markdown",
   "metadata": {},
   "source": [
    "As we are able to make money even after all the costs occurred to us.\n",
    "We can conclude our business is profitable and we can go ahead with the business plan"
   ]
  }
 ],
 "metadata": {
  "kernelspec": {
   "display_name": "Python 3",
   "language": "python",
   "name": "python3"
  },
  "language_info": {
   "codemirror_mode": {
    "name": "ipython",
    "version": 3
   },
   "file_extension": ".py",
   "mimetype": "text/x-python",
   "name": "python",
   "nbconvert_exporter": "python",
   "pygments_lexer": "ipython3",
   "version": "3.7.3"
  },
  "toc": {
   "base_numbering": 1,
   "nav_menu": {},
   "number_sections": false,
   "sideBar": true,
   "skip_h1_title": true,
   "title_cell": "Table of Contents",
   "title_sidebar": "Contents",
   "toc_cell": false,
   "toc_position": {},
   "toc_section_display": true,
   "toc_window_display": false
  }
 },
 "nbformat": 4,
 "nbformat_minor": 2
}
